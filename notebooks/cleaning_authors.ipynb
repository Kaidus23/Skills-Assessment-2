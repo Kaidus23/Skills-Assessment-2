{
 "cells": [
  {
   "cell_type": "code",
   "execution_count": 1,
   "id": "5cd8000c-9c80-43ea-b9fd-2fb77e772c52",
   "metadata": {},
   "outputs": [
    {
     "name": "stdout",
     "output_type": "stream",
     "text": [
      "Working Directory Changed To: /Users/kai23/Library/Mobile Documents/com~apple~CloudDocs/MSc Data Science/Skills for DS/Skills Assessment 2\n"
     ]
    }
   ],
   "source": [
    "import os\n",
    "# Changing current working directory\n",
    "os.chdir('/Users/kai23/Library/Mobile Documents/com~apple~CloudDocs/MSc Data Science/Skills for DS/Skills Assessment 2')\n",
    "print(\"Working Directory Changed To:\", os.getcwd())"
   ]
  },
  {
   "cell_type": "code",
   "execution_count": 2,
   "id": "79490216-d37f-4236-bd46-b767007564fa",
   "metadata": {},
   "outputs": [
    {
     "name": "stdout",
     "output_type": "stream",
     "text": [
      "<class 'pandas.core.frame.DataFrame'>\n",
      "RangeIndex: 56892 entries, 0 to 56891\n",
      "Data columns (total 6 columns):\n",
      " #   Column             Non-Null Count  Dtype \n",
      "---  ------             --------------  ----- \n",
      " 0   PMID               56892 non-null  int64 \n",
      " 1   AuthorN            56892 non-null  int64 \n",
      " 2   AuthorForename     56865 non-null  object\n",
      " 3   AuthorLastname     56892 non-null  object\n",
      " 4   AuthorInitials     56815 non-null  object\n",
      " 5   AuthorAffiliation  35701 non-null  object\n",
      "dtypes: int64(2), object(4)\n",
      "memory usage: 2.6+ MB\n"
     ]
    },
    {
     "data": {
      "text/html": [
       "<div>\n",
       "<style scoped>\n",
       "    .dataframe tbody tr th:only-of-type {\n",
       "        vertical-align: middle;\n",
       "    }\n",
       "\n",
       "    .dataframe tbody tr th {\n",
       "        vertical-align: top;\n",
       "    }\n",
       "\n",
       "    .dataframe thead th {\n",
       "        text-align: right;\n",
       "    }\n",
       "</style>\n",
       "<table border=\"1\" class=\"dataframe\">\n",
       "  <thead>\n",
       "    <tr style=\"text-align: right;\">\n",
       "      <th></th>\n",
       "      <th>PMID</th>\n",
       "      <th>AuthorN</th>\n",
       "      <th>AuthorForename</th>\n",
       "      <th>AuthorLastname</th>\n",
       "      <th>AuthorInitials</th>\n",
       "      <th>AuthorAffiliation</th>\n",
       "    </tr>\n",
       "  </thead>\n",
       "  <tbody>\n",
       "    <tr>\n",
       "      <th>0</th>\n",
       "      <td>10545039</td>\n",
       "      <td>1</td>\n",
       "      <td>K E</td>\n",
       "      <td>Morrison</td>\n",
       "      <td>KE</td>\n",
       "      <td>Neurosciences Group, Institiute of Molecular M...</td>\n",
       "    </tr>\n",
       "    <tr>\n",
       "      <th>1</th>\n",
       "      <td>10545039</td>\n",
       "      <td>2</td>\n",
       "      <td>G</td>\n",
       "      <td>Steers</td>\n",
       "      <td>G</td>\n",
       "      <td>NaN</td>\n",
       "    </tr>\n",
       "    <tr>\n",
       "      <th>2</th>\n",
       "      <td>10545039</td>\n",
       "      <td>3</td>\n",
       "      <td>V</td>\n",
       "      <td>Dubowitz</td>\n",
       "      <td>V</td>\n",
       "      <td>NaN</td>\n",
       "    </tr>\n",
       "    <tr>\n",
       "      <th>3</th>\n",
       "      <td>10558867</td>\n",
       "      <td>1</td>\n",
       "      <td>M L</td>\n",
       "      <td>Brandi</td>\n",
       "      <td>ML</td>\n",
       "      <td>Department of Clinical Physiopathology, Univer...</td>\n",
       "    </tr>\n",
       "    <tr>\n",
       "      <th>4</th>\n",
       "      <td>10558867</td>\n",
       "      <td>2</td>\n",
       "      <td>L</td>\n",
       "      <td>Becherini</td>\n",
       "      <td>L</td>\n",
       "      <td>NaN</td>\n",
       "    </tr>\n",
       "  </tbody>\n",
       "</table>\n",
       "</div>"
      ],
      "text/plain": [
       "       PMID  AuthorN AuthorForename AuthorLastname AuthorInitials  \\\n",
       "0  10545039        1            K E       Morrison             KE   \n",
       "1  10545039        2              G         Steers              G   \n",
       "2  10545039        3              V       Dubowitz              V   \n",
       "3  10558867        1            M L         Brandi             ML   \n",
       "4  10558867        2              L      Becherini              L   \n",
       "\n",
       "                                   AuthorAffiliation  \n",
       "0  Neurosciences Group, Institiute of Molecular M...  \n",
       "1                                                NaN  \n",
       "2                                                NaN  \n",
       "3  Department of Clinical Physiopathology, Univer...  \n",
       "4                                                NaN  "
      ]
     },
     "execution_count": 2,
     "metadata": {},
     "output_type": "execute_result"
    }
   ],
   "source": [
    "import pandas as pd\n",
    "# Loading the CSV file\n",
    "authors = pd.read_csv('./data/authors.APOE.csv')\n",
    "\n",
    "authors.info()\n",
    "authors.head()"
   ]
  },
  {
   "cell_type": "code",
   "execution_count": 3,
   "id": "dc5b96ba-5f3e-41f4-a2f6-d3e05765cd06",
   "metadata": {},
   "outputs": [
    {
     "name": "stdout",
     "output_type": "stream",
     "text": [
      "PMID                     0\n",
      "AuthorN                  0\n",
      "AuthorForename          27\n",
      "AuthorLastname           0\n",
      "AuthorInitials          77\n",
      "AuthorAffiliation    21191\n",
      "dtype: int64\n"
     ]
    }
   ],
   "source": [
    "# Identifying missing values\n",
    "print(authors.isnull().sum())"
   ]
  },
  {
   "cell_type": "code",
   "execution_count": 4,
   "id": "82edb08f-0203-4941-92d2-8d6e0d9f9b42",
   "metadata": {},
   "outputs": [],
   "source": [
    "# Using placeholders for missing values of names/initials\n",
    "authors['AuthorForename'] = authors['AuthorForename'].fillna('Unknown')\n",
    "authors['AuthorInitials'] = authors['AuthorInitials'].fillna('N/A')"
   ]
  },
  {
   "cell_type": "code",
   "execution_count": 5,
   "id": "1dadea7f-8fc9-4a0d-8cd3-911327f9bab4",
   "metadata": {},
   "outputs": [
    {
     "name": "stderr",
     "output_type": "stream",
     "text": [
      "/var/folders/1c/pv56fs9s22lgvn6pw288swth0000gn/T/ipykernel_64578/969249506.py:2: FutureWarning: Downcasting object dtype arrays on .fillna, .ffill, .bfill is deprecated and will change in a future version. Call result.infer_objects(copy=False) instead. To opt-in to the future behavior, set `pd.set_option('future.no_silent_downcasting', True)`\n",
      "  authors['AuthorAffiliation'] = authors.groupby('PMID')['AuthorAffiliation'].transform(lambda x: x.ffill().bfill())\n"
     ]
    }
   ],
   "source": [
    "# Duplicating \"AuthorAffiliation\" for every author of that paper\n",
    "authors['AuthorAffiliation'] = authors.groupby('PMID')['AuthorAffiliation'].transform(lambda x: x.ffill().bfill())"
   ]
  },
  {
   "cell_type": "code",
   "execution_count": 6,
   "id": "7f1b4634-b315-48c4-8ef3-cafa69232b61",
   "metadata": {},
   "outputs": [],
   "source": [
    "# Adding a column to show different number of authors per paper\n",
    "authors['AuthorsPerPaper'] = authors.groupby('PMID')['AuthorN'].transform('max')"
   ]
  },
  {
   "cell_type": "code",
   "execution_count": 7,
   "id": "450b8873-daf7-4b71-b10a-94dc87681d14",
   "metadata": {},
   "outputs": [],
   "source": [
    "# Creating a new column for full names\n",
    "authors['AuthorFullName'] = authors['AuthorForename'] + ' ' + authors['AuthorLastname']"
   ]
  },
  {
   "cell_type": "code",
   "execution_count": 8,
   "id": "ae52a71b-fd6c-4cb1-b702-8e77e4627379",
   "metadata": {},
   "outputs": [],
   "source": [
    "import re\n",
    "\n",
    "# Defining a function to clean affiliations column\n",
    "def clean_affiliation(affiliation):\n",
    "    if pd.isna(affiliation):\n",
    "        return \"Unknown\"\n",
    "    \n",
    "    # Removing area codes and specific country names\n",
    "    cleaned = re.sub(r'\\s*\\d{5}(-\\d{4})?|,?\\s*USA|,?\\s*UK|,?\\s*China|,?\\s*Sweden', '', affiliation, flags=re.IGNORECASE)\n",
    "    \n",
    "    # Removing extra commas and spaces\n",
    "    cleaned = re.sub(r',+', ',', cleaned)\n",
    "    cleaned = re.sub(r'\\s+', ' ', cleaned).strip(', ')\n",
    "    \n",
    "    return cleaned\n",
    "\n",
    "# Applying the function to the AuthorAffiliation column\n",
    "authors['AuthorAffiliation'] = authors['AuthorAffiliation'].apply(clean_affiliation)"
   ]
  },
  {
   "cell_type": "code",
   "execution_count": 9,
   "id": "19ce363a-d0bc-41e0-8bc5-4d4cf8a9ee41",
   "metadata": {},
   "outputs": [],
   "source": [
    "# Removing leading/trailing whitespace and ensuring consistent capitalisation\n",
    "authors['AuthorAffiliation'] = authors['AuthorAffiliation'].str.strip()\n",
    "authors['AuthorAffiliation'] = authors['AuthorAffiliation'].str.title()\n",
    "\n",
    "# Creating dictionary to standardise names\n",
    "affiliation_standardise = {\n",
    "    \"Department Of Neuroscience, Mayo Clinic College Of Medicine, Jacksonville, Fl,.\": \"Mayo Clinic, Jacksonville, Florida\",\n",
    "    \"Department Of Neuroscience, Mayo Clinic, Jacksonville, Fl,. Zjing.0321@Gmail.Com.\": \"Mayo Clinic, Jacksonville, Florida\",\n",
    "    \"Cytometry And Cell Imaging Laboratory, Mayo Clinic, Jacksonville, Fl.\": \"Mayo Clinic, Jacksonville, Florida\",\n",
    "    \"Department Of Quantitative Health Sciences, Mayo Clinic, Jacksonville, Fl,.\": \"Mayo Clinic, Jacksonville, Florida\",\n",
    "    \"Department Of Quantitative Health Sciences, Mayo Clinic, Jacksonville, Fl,.\": \"Mayo Clinic, Jacksonville, Florida\",\n",
    "    \"Department Of Neuroscience, Mayo Clinic, Jacksonville, Fl,. Guojun.Bu@Molecularneurodegeneration.Org.\": \"Mayo Clinic, Jacksonville, Florida\",\n",
    "    \"Department Of Neuroscience, Mayo Clinic, Jacksonville, Fl. Liu.Chiachenjen@Gmail.Com.\": \"Mayo Clinic, Jacksonville, Florida\",\n",
    "    \"4500 San Pablo Rd, Mayo Clinic, Jacksonville, Fl.\": \"Mayo Clinic, Jacksonville, Florida\",    \n",
    "    \"Department Of Neuroscience, Mayo Clinic, Jacksonville, Florida\": \"Mayo Clinic, Jacksonville, Florida\",\n",
    "    \"Department Of Neuroscience, Mayo Clinic, Jacksonville, Florida.\": \"Mayo Clinic, Jacksonville, Florida\",\n",
    "    \"Department Of Neuroscience, Mayo Clinic, Jacksonville, Fl.\": \"Mayo Clinic, Jacksonville, Florida\",\n",
    "    \"Department Of Radiology, Mayo Clinic, Rochester, Mn.\": \"Mayo Clinic, Rochester, Minnesota\",\n",
    "}\n",
    "\n",
    "# Applying the dictionary\n",
    "authors['AuthorAffiliation'] = authors['AuthorAffiliation'].replace(affiliation_standardise)"
   ]
  },
  {
   "cell_type": "code",
   "execution_count": 10,
   "id": "7598b68e-77c5-426e-ba60-859b1870373f",
   "metadata": {},
   "outputs": [],
   "source": [
    "# Saving cleaned csv to outputs folder\n",
    "authors.to_csv('./outputs/authors_cleaned.csv', index=False)"
   ]
  }
 ],
 "metadata": {
  "kernelspec": {
   "display_name": "Python 3 (ipykernel)",
   "language": "python",
   "name": "python3"
  },
  "language_info": {
   "codemirror_mode": {
    "name": "ipython",
    "version": 3
   },
   "file_extension": ".py",
   "mimetype": "text/x-python",
   "name": "python",
   "nbconvert_exporter": "python",
   "pygments_lexer": "ipython3",
   "version": "3.13.0"
  }
 },
 "nbformat": 4,
 "nbformat_minor": 5
}
