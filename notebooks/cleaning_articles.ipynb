{
 "cells": [
  {
   "cell_type": "code",
   "execution_count": 1,
   "id": "6af24522-2e8f-4a27-8f04-1576c36266c3",
   "metadata": {},
   "outputs": [
    {
     "name": "stdout",
     "output_type": "stream",
     "text": [
      "Working Directory Changed To: /Users/kai23/Library/Mobile Documents/com~apple~CloudDocs/MSc Data Science/Skills for DS/Skills Assessment 2\n"
     ]
    }
   ],
   "source": [
    "import os\n",
    "os.chdir('/Users/kai23/Library/Mobile Documents/com~apple~CloudDocs/MSc Data Science/Skills for DS/Skills Assessment 2')\n",
    "print(\"Working Directory Changed To:\", os.getcwd())"
   ]
  },
  {
   "cell_type": "code",
   "execution_count": 2,
   "id": "394279eb-38da-423c-b6fd-33fcf2c0b524",
   "metadata": {},
   "outputs": [
    {
     "name": "stdout",
     "output_type": "stream",
     "text": [
      "<class 'pandas.core.frame.DataFrame'>\n",
      "RangeIndex: 6304 entries, 0 to 6303\n",
      "Data columns (total 11 columns):\n",
      " #   Column                  Non-Null Count  Dtype \n",
      "---  ------                  --------------  ----- \n",
      " 0   PMID                    6304 non-null   int64 \n",
      " 1   Title                   6304 non-null   object\n",
      " 2   Abstract                6304 non-null   object\n",
      " 3   ISSN                    6304 non-null   object\n",
      " 4   Journal                 6304 non-null   object\n",
      " 5   Location                6295 non-null   object\n",
      " 6   Year                    6304 non-null   int64 \n",
      " 7   FirstAuthorForename     6301 non-null   object\n",
      " 8   FirstAuthorLastname     6303 non-null   object\n",
      " 9   FirstAuthorInitials     6293 non-null   object\n",
      " 10  FirstAuthorAffiliation  6207 non-null   object\n",
      "dtypes: int64(2), object(9)\n",
      "memory usage: 541.9+ KB\n"
     ]
    },
    {
     "data": {
      "text/html": [
       "<div>\n",
       "<style scoped>\n",
       "    .dataframe tbody tr th:only-of-type {\n",
       "        vertical-align: middle;\n",
       "    }\n",
       "\n",
       "    .dataframe tbody tr th {\n",
       "        vertical-align: top;\n",
       "    }\n",
       "\n",
       "    .dataframe thead th {\n",
       "        text-align: right;\n",
       "    }\n",
       "</style>\n",
       "<table border=\"1\" class=\"dataframe\">\n",
       "  <thead>\n",
       "    <tr style=\"text-align: right;\">\n",
       "      <th></th>\n",
       "      <th>PMID</th>\n",
       "      <th>Title</th>\n",
       "      <th>Abstract</th>\n",
       "      <th>ISSN</th>\n",
       "      <th>Journal</th>\n",
       "      <th>Location</th>\n",
       "      <th>Year</th>\n",
       "      <th>FirstAuthorForename</th>\n",
       "      <th>FirstAuthorLastname</th>\n",
       "      <th>FirstAuthorInitials</th>\n",
       "      <th>FirstAuthorAffiliation</th>\n",
       "    </tr>\n",
       "  </thead>\n",
       "  <tbody>\n",
       "    <tr>\n",
       "      <th>0</th>\n",
       "      <td>10545039</td>\n",
       "      <td>No evidence of association between apolipoprot...</td>\n",
       "      <td>The survival motor neuron (SMN) gene is presen...</td>\n",
       "      <td>0960-8966</td>\n",
       "      <td>Neuromuscular disorders : NMD</td>\n",
       "      <td>(9) 372-5</td>\n",
       "      <td>1999</td>\n",
       "      <td>K E</td>\n",
       "      <td>Morrison</td>\n",
       "      <td>KE</td>\n",
       "      <td>Neurosciences Group, Institiute of Molecular M...</td>\n",
       "    </tr>\n",
       "    <tr>\n",
       "      <th>1</th>\n",
       "      <td>10558867</td>\n",
       "      <td>Association of the estrogen receptor alpha gen...</td>\n",
       "      <td>Alzheimer's disease (AD) is a multifactorial d...</td>\n",
       "      <td>0006-291X</td>\n",
       "      <td>Biochemical and biophysical research communica...</td>\n",
       "      <td>(265) 335-8</td>\n",
       "      <td>1999</td>\n",
       "      <td>M L</td>\n",
       "      <td>Brandi</td>\n",
       "      <td>ML</td>\n",
       "      <td>Department of Clinical Physiopathology, Univer...</td>\n",
       "    </tr>\n",
       "    <tr>\n",
       "      <th>2</th>\n",
       "      <td>10560469</td>\n",
       "      <td>Initial evaluation of suspected dementia. Aski...</td>\n",
       "      <td>The initial clinical approach to suspected dem...</td>\n",
       "      <td>0032-5481</td>\n",
       "      <td>Postgraduate medicine</td>\n",
       "      <td>(106) 72-6, 79-80, 82-3</td>\n",
       "      <td>1999</td>\n",
       "      <td>D C</td>\n",
       "      <td>Steffens</td>\n",
       "      <td>DC</td>\n",
       "      <td>Department of Psychiatry and Behavioral Scienc...</td>\n",
       "    </tr>\n",
       "    <tr>\n",
       "      <th>3</th>\n",
       "      <td>10563634</td>\n",
       "      <td>APOE-epsilon4 is associated with less frontal ...</td>\n",
       "      <td>To test the hypothesis that the e4 allele of A...</td>\n",
       "      <td>0028-3878</td>\n",
       "      <td>Neurology</td>\n",
       "      <td>(53) 1825-32</td>\n",
       "      <td>1999</td>\n",
       "      <td>C</td>\n",
       "      <td>Geroldi</td>\n",
       "      <td>C</td>\n",
       "      <td>IRCCS San Giovanni di Dio-FBF, Brescia, Italy.</td>\n",
       "    </tr>\n",
       "    <tr>\n",
       "      <th>4</th>\n",
       "      <td>10570509</td>\n",
       "      <td>[Frequency of the APOE-4 allele in Alzheimer's...</td>\n",
       "      <td>Patients with late-onset Alzheimer's disease s...</td>\n",
       "      <td>0025-7753</td>\n",
       "      <td>Medicina clinica</td>\n",
       "      <td>(113) 441-3</td>\n",
       "      <td>1999</td>\n",
       "      <td>V</td>\n",
       "      <td>Alvarez</td>\n",
       "      <td>V</td>\n",
       "      <td>Laboratorio de Genética Molecular, Instituto R...</td>\n",
       "    </tr>\n",
       "  </tbody>\n",
       "</table>\n",
       "</div>"
      ],
      "text/plain": [
       "       PMID                                              Title  \\\n",
       "0  10545039  No evidence of association between apolipoprot...   \n",
       "1  10558867  Association of the estrogen receptor alpha gen...   \n",
       "2  10560469  Initial evaluation of suspected dementia. Aski...   \n",
       "3  10563634  APOE-epsilon4 is associated with less frontal ...   \n",
       "4  10570509  [Frequency of the APOE-4 allele in Alzheimer's...   \n",
       "\n",
       "                                            Abstract       ISSN  \\\n",
       "0  The survival motor neuron (SMN) gene is presen...  0960-8966   \n",
       "1  Alzheimer's disease (AD) is a multifactorial d...  0006-291X   \n",
       "2  The initial clinical approach to suspected dem...  0032-5481   \n",
       "3  To test the hypothesis that the e4 allele of A...  0028-3878   \n",
       "4  Patients with late-onset Alzheimer's disease s...  0025-7753   \n",
       "\n",
       "                                             Journal                 Location  \\\n",
       "0                      Neuromuscular disorders : NMD                (9) 372-5   \n",
       "1  Biochemical and biophysical research communica...              (265) 335-8   \n",
       "2                              Postgraduate medicine  (106) 72-6, 79-80, 82-3   \n",
       "3                                          Neurology             (53) 1825-32   \n",
       "4                                   Medicina clinica              (113) 441-3   \n",
       "\n",
       "   Year FirstAuthorForename FirstAuthorLastname FirstAuthorInitials  \\\n",
       "0  1999                 K E            Morrison                  KE   \n",
       "1  1999                 M L              Brandi                  ML   \n",
       "2  1999                 D C            Steffens                  DC   \n",
       "3  1999                   C             Geroldi                   C   \n",
       "4  1999                   V             Alvarez                   V   \n",
       "\n",
       "                              FirstAuthorAffiliation  \n",
       "0  Neurosciences Group, Institiute of Molecular M...  \n",
       "1  Department of Clinical Physiopathology, Univer...  \n",
       "2  Department of Psychiatry and Behavioral Scienc...  \n",
       "3     IRCCS San Giovanni di Dio-FBF, Brescia, Italy.  \n",
       "4  Laboratorio de Genética Molecular, Instituto R...  "
      ]
     },
     "execution_count": 2,
     "metadata": {},
     "output_type": "execute_result"
    }
   ],
   "source": [
    "import pandas as pd\n",
    "# Load the CSV file\n",
    "articles = pd.read_csv('./data/articles.APOE.csv')\n",
    "\n",
    "articles.info()\n",
    "articles.head()"
   ]
  },
  {
   "cell_type": "code",
   "execution_count": 3,
   "id": "0b6ded86-6564-4575-ba8f-f10930cccb36",
   "metadata": {},
   "outputs": [
    {
     "name": "stdout",
     "output_type": "stream",
     "text": [
      "PMID                       0\n",
      "Title                      0\n",
      "Abstract                   0\n",
      "ISSN                       0\n",
      "Journal                    0\n",
      "Location                   9\n",
      "Year                       0\n",
      "FirstAuthorForename        3\n",
      "FirstAuthorLastname        1\n",
      "FirstAuthorInitials       11\n",
      "FirstAuthorAffiliation    97\n",
      "dtype: int64\n"
     ]
    }
   ],
   "source": [
    "# Identifying missing values\n",
    "print(articles.isnull().sum())"
   ]
  },
  {
   "cell_type": "code",
   "execution_count": 4,
   "id": "225f9018-a3c5-450a-9e24-b691dec870ac",
   "metadata": {},
   "outputs": [],
   "source": [
    "# Dropping rows with missing values in the most important columns\n",
    "articles.dropna(subset=['PMID', 'Title', 'Abstract', 'Year'], inplace=True)\n",
    "\n",
    "# Filling in missing values with placeholders for less important columns\n",
    "articles['FirstAuthorAffiliation'] = articles['FirstAuthorAffiliation'].fillna('Unknown')\n",
    "articles['FirstAuthorForename'] = articles['FirstAuthorForename'].fillna('Unknown')\n",
    "articles['FirstAuthorLastname'] = articles['FirstAuthorLastname'].fillna('Unknown')\n",
    "articles['FirstAuthorInitials'] = articles['FirstAuthorInitials'].fillna('N/A')\n",
    "articles['Location'] = articles['Location'].fillna('Unknown')"
   ]
  },
  {
   "cell_type": "code",
   "execution_count": 5,
   "id": "3b0365b9-645f-4c17-ad6b-554026731328",
   "metadata": {},
   "outputs": [],
   "source": [
    "# Dropping any duplicates in the dataset\n",
    "articles.drop_duplicates(subset='PMID', inplace=True)"
   ]
  },
  {
   "cell_type": "code",
   "execution_count": 6,
   "id": "595abfd9-8423-402b-bb83-68f3aa76f28f",
   "metadata": {},
   "outputs": [],
   "source": [
    "# Adding a \"Keywords\" column from \"Abstract\"\n",
    "articles['Keywords'] = articles['Abstract'].str.extractall(r'\\b(\\w+)\\b').groupby(level=0)[0].apply(set)"
   ]
  },
  {
   "cell_type": "code",
   "execution_count": 7,
   "id": "f59e42ce-1dfe-4642-a02e-9a2123380045",
   "metadata": {},
   "outputs": [],
   "source": [
    "# Grouping articles by decade\n",
    "articles['Decade'] = (articles['Year'] // 10) * 10"
   ]
  },
  {
   "cell_type": "code",
   "execution_count": 8,
   "id": "3458ebf3-1d8c-4456-9ca2-186ba5cd1466",
   "metadata": {},
   "outputs": [],
   "source": [
    "# Save the cleaned dataset to the outputs folder\n",
    "articles.to_csv('./outputs/articles_cleaned.csv', index=False)"
   ]
  }
 ],
 "metadata": {
  "kernelspec": {
   "display_name": "Python 3 (ipykernel)",
   "language": "python",
   "name": "python3"
  },
  "language_info": {
   "codemirror_mode": {
    "name": "ipython",
    "version": 3
   },
   "file_extension": ".py",
   "mimetype": "text/x-python",
   "name": "python",
   "nbconvert_exporter": "python",
   "pygments_lexer": "ipython3",
   "version": "3.13.0"
  }
 },
 "nbformat": 4,
 "nbformat_minor": 5
}
